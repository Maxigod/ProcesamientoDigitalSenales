{
 "cells": [
  {
   "cell_type": "code",
   "execution_count": 1,
   "metadata": {},
   "outputs": [],
   "source": [
    "import numpy as np"
   ]
  },
  {
   "cell_type": "code",
   "execution_count": 2,
   "metadata": {},
   "outputs": [],
   "source": [
    "x=[1.5,0.5,-0.5,0.5,1.5,0.5,-0.5,0.5]\n",
    "N=8\n"
   ]
  },
  {
   "attachments": {},
   "cell_type": "markdown",
   "metadata": {},
   "source": [
    "## Ecuación Análisis"
   ]
  },
  {
   "cell_type": "code",
   "execution_count": 18,
   "metadata": {},
   "outputs": [
    {
     "name": "stdout",
     "output_type": "stream",
     "text": [
      "X[0] = (0.5+0j)\n",
      "X[1] = (-0-0j)\n",
      "X[2] = (0.5+0j)\n",
      "X[3] = (-0+0j)\n",
      "X[4] = -0j\n",
      "X[5] = -0j\n",
      "X[6] = (0.5+0j)\n",
      "X[7] = -0j\n",
      "Sum X: (1.5+0j)\n"
     ]
    }
   ],
   "source": [
    "X=[0.0]*N\n",
    "for k in range(N):\n",
    "    X[k]=(1/N)*sum([x[n]*np.exp(-2*(0+1j)*np.pi*n*k/N) for n in range(N)])\n",
    "    print(f\"X[{k}] = {np.round(X[k],4)}\")\n",
    "\n",
    "print(\"Sum X:\",np.round(sum(X),4))"
   ]
  },
  {
   "attachments": {},
   "cell_type": "markdown",
   "metadata": {},
   "source": [
    "## Ecuación Síntesis"
   ]
  },
  {
   "cell_type": "code",
   "execution_count": 22,
   "metadata": {},
   "outputs": [
    {
     "name": "stdout",
     "output_type": "stream",
     "text": [
      "x[0] = (1.5+0j)\n",
      "x[1] = (0.5-0j)\n",
      "x[2] = (-0.5-0j)\n",
      "x[3] = (0.5-0j)\n",
      "x[4] = (1.5-0j)\n",
      "x[5] = (0.5+0j)\n",
      "x[6] = (-0.5+0j)\n",
      "x[7] = (0.5+0j)\n"
     ]
    }
   ],
   "source": [
    "x_sint=[0.0]*N\n",
    "for n in range(N):\n",
    "    x_sint[n]=sum([X[k]*np.exp(2*(0+1j)*np.pi*n*k/N) for k in range(N)])\n",
    "    print(f\"x[{n}] = {np.round(x_sint[n],4)}\")\n"
   ]
  }
 ],
 "metadata": {
  "kernelspec": {
   "display_name": "base",
   "language": "python",
   "name": "python3"
  },
  "language_info": {
   "codemirror_mode": {
    "name": "ipython",
    "version": 3
   },
   "file_extension": ".py",
   "mimetype": "text/x-python",
   "name": "python",
   "nbconvert_exporter": "python",
   "pygments_lexer": "ipython3",
   "version": "3.9.13"
  },
  "orig_nbformat": 4
 },
 "nbformat": 4,
 "nbformat_minor": 2
}
